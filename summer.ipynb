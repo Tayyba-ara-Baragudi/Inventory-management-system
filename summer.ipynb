{
  "nbformat": 4,
  "nbformat_minor": 0,
  "metadata": {
    "colab": {
      "name": "summer.ipynb",
      "private_outputs": true,
      "provenance": [],
      "collapsed_sections": [],
      "authorship_tag": "ABX9TyNKDtZWG0QT77CUxHgKNu6c",
      "include_colab_link": true
    },
    "kernelspec": {
      "name": "python3",
      "display_name": "Python 3"
    },
    "language_info": {
      "name": "python"
    }
  },
  "cells": [
    {
      "cell_type": "markdown",
      "metadata": {
        "id": "view-in-github",
        "colab_type": "text"
      },
      "source": [
        "<a href=\"https://colab.research.google.com/github/Tayyba-ara-Baragudi/Inventory-management-system/blob/main/summer.ipynb\" target=\"_parent\"><img src=\"https://colab.research.google.com/assets/colab-badge.svg\" alt=\"Open In Colab\"/></a>"
      ]
    },
    {
      "cell_type": "markdown",
      "metadata": {
        "id": "10utfDyqBKZ7"
      },
      "source": [
        "\n",
        "Summer Olympics Data Analysis Assignment\n"
      ]
    },
    {
      "cell_type": "markdown",
      "metadata": {
        "id": "ZsItGMZvBYJh"
      },
      "source": [
        "1. In how many cities Summer Olympics is held so far?"
      ]
    },
    {
      "cell_type": "code",
      "metadata": {
        "id": "6lRR-YROBel7"
      },
      "source": [
        "import pandas as pd\n",
        "import numpy as np"
      ],
      "execution_count": null,
      "outputs": []
    },
    {
      "cell_type": "code",
      "metadata": {
        "id": "gP6NIYsXCQbC"
      },
      "source": [
        "df=pd.read_csv('summer.csv')"
      ],
      "execution_count": null,
      "outputs": []
    },
    {
      "cell_type": "code",
      "metadata": {
        "id": "SoLOlEqBG5v8"
      },
      "source": [
        " len(df['City'].unique())"
      ],
      "execution_count": null,
      "outputs": []
    },
    {
      "cell_type": "markdown",
      "metadata": {
        "id": "zat_1JjvHexy"
      },
      "source": [
        "2. Which sport is having most number of Gold Medals so far? (Top 5)\n"
      ]
    },
    {
      "cell_type": "code",
      "metadata": {
        "id": "8-qW9xQ0Io14"
      },
      "source": [
        "proc_df=df[df['Medal']=='Gold']\n",
        "data=[]\n",
        "for sport in proc_df['Sport'].unique():\n",
        "  data.append([sport, len(proc_df[proc_df['Sport']==sport])])\n",
        "data=pd.DataFrame(data, columns=['Sport','freq']) \n",
        "data.sort_values(by ='freq',ascending=False).head()"
      ],
      "execution_count": null,
      "outputs": []
    },
    {
      "cell_type": "markdown",
      "metadata": {
        "id": "4LPfPoBjXW55"
      },
      "source": [
        "3. Which sport is having most number of medals so far? (Top 5)\n"
      ]
    },
    {
      "cell_type": "code",
      "metadata": {
        "id": "hrTM5SAHXYhu"
      },
      "source": [
        "data=[]\n",
        "for sport in df['Sport'].unique():\n",
        "  data.append([sport, len(df[df['Sport']==sport])])\n",
        "data=pd.DataFrame(data, columns=['Sport','freq']) \n",
        "data.sort_values(by ='freq',ascending=False).head()"
      ],
      "execution_count": null,
      "outputs": []
    },
    {
      "cell_type": "markdown",
      "metadata": {
        "id": "qsvPfkA0YXJR"
      },
      "source": [
        "4. Which player has won most number of medals? (Top 5)\n"
      ]
    },
    {
      "cell_type": "code",
      "metadata": {
        "id": "FfCVtXNNYVya"
      },
      "source": [
        "data=[]\n",
        "for player in df['Athlete'].unique():\n",
        "  data.append([player, len(df[df['Athlete']==player])])\n",
        "data=pd.DataFrame(data, columns=['Athlete','freq']) \n",
        "data.sort_values(by ='freq',ascending=False).head()"
      ],
      "execution_count": null,
      "outputs": []
    },
    {
      "cell_type": "markdown",
      "metadata": {
        "id": "qP7t-NbkZN5W"
      },
      "source": [
        "5. Which player has won most number Gold Medals of medals? (Top 5)\n"
      ]
    },
    {
      "cell_type": "code",
      "metadata": {
        "id": "-hb5fQOMZSp7"
      },
      "source": [
        "proc_df=df[df['Medal']=='Gold']\n",
        "data=[]\n",
        "for sport in proc_df['Athlete'].unique():\n",
        "  data.append([sport, len(proc_df[proc_df['Athlete']==sport])])\n",
        "data=pd.DataFrame(data, columns=['Athlete','freq']) \n",
        "data.sort_values(by ='freq',ascending=False).head()"
      ],
      "execution_count": null,
      "outputs": []
    },
    {
      "cell_type": "markdown",
      "metadata": {
        "id": "QGdsCFbHZvKh"
      },
      "source": [
        "6. In which year India won first Gold Medal in Summer Olympics?\n"
      ]
    },
    {
      "cell_type": "code",
      "metadata": {
        "id": "v7Nf2l76Z06s"
      },
      "source": [
        "proc_df=df[df['Medal']=='Gold']\n",
        "data=[]\n",
        "for sport in proc_df['Country'].unique():\n",
        "  data.append([sport, len(proc_df[proc_df['Country']=='India'])])\n",
        "data=pd.DataFrame(data, columns=['Country','freq']) \n",
        "data.sort_values(by ='freq',ascending=True).head()"
      ],
      "execution_count": null,
      "outputs": []
    },
    {
      "cell_type": "markdown",
      "metadata": {
        "id": "pTl7YP1OZ-Bb"
      },
      "source": [
        "7. Which event is most popular in terms on number of players? (Top 5)\n"
      ]
    },
    {
      "cell_type": "code",
      "metadata": {
        "id": "cF8JSq4GZ_pm"
      },
      "source": [
        "data=[]\n",
        "for player in df['Event'].unique():\n",
        "  data.append([player, len(df[df['Event']==player])])\n",
        "data=pd.DataFrame(data, columns=['Event','freq']) \n",
        "data.sort_values(by ='freq',ascending=False).head()"
      ],
      "execution_count": null,
      "outputs": []
    },
    {
      "cell_type": "markdown",
      "metadata": {
        "id": "nbD5QhbnbwxX"
      },
      "source": [
        "8. Which sport is having most female Gold Medalists?"
      ]
    },
    {
      "cell_type": "code",
      "metadata": {
        "id": "uEZ66XgSb0nJ"
      },
      "source": [
        "df1=df[df['Gender']=='Women']\n",
        "data=[]\n",
        "for player in df1['Sport'].unique():\n",
        "  data.append([player, len(df1[df1['Sport']==player])])\n",
        "data=pd.DataFrame(data, columns=['Sport','freq']) \n",
        "data.sort_values(by ='freq',ascending=False).head()"
      ],
      "execution_count": null,
      "outputs": []
    },
    {
      "cell_type": "code",
      "metadata": {
        "id": "zSmsjXOkZy1P"
      },
      "source": [
        ""
      ],
      "execution_count": null,
      "outputs": []
    },
    {
      "cell_type": "code",
      "metadata": {
        "id": "ZEP41wOIK3ox"
      },
      "source": [
        ""
      ],
      "execution_count": null,
      "outputs": []
    },
    {
      "cell_type": "code",
      "metadata": {
        "id": "QyaiJUB_DSCs"
      },
      "source": [
        "df"
      ],
      "execution_count": null,
      "outputs": []
    }
  ]
}