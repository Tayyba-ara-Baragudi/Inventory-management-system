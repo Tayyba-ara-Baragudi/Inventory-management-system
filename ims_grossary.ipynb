{
  "nbformat": 4,
  "nbformat_minor": 0,
  "metadata": {
    "colab": {
      "name": "ims-grossary.ipynb",
      "provenance": [],
      "collapsed_sections": []
    },
    "kernelspec": {
      "name": "python3",
      "display_name": "Python 3"
    },
    "language_info": {
      "name": "python"
    }
  },
  "cells": [
    {
      "cell_type": "code",
      "metadata": {
        "id": "0jXD_ZAyzza3"
      },
      "source": [
        "inventory = {\n",
        "    1001 : {\"product\": \"Tata Tea Premium\" , \"price\" :399  , \"quantity\" : 56 , \"mfg date\": \"20/09/20021\" , \"exp date\":\"20/09/2022\" },\n",
        "    1002 : {\"product\": \"Dabur Honey\" , \"price\" :155  , \"quantity\" :78  , \"mfg date\": \"09/04/2020\" , \"exp date\":\"09/04/2023\" },     \n",
        "    1003 : {\"product\": \"Tata Salt\" , \"price\" :19  , \"quantity\" :101  , \"mfg date\": \"08/03/2021\" , \"exp date\":\"08/03/2025\" },\n",
        "    1004 : {\"product\": \"Dabur Red Paste\" , \"price\" :202  , \"quantity\" :44  , \"mfg date\": \"2506/2021\" , \"exp date\":\"25/06/2022\" },\n",
        "    1005 : {\"product\": \"Kissan Mixed Fruit Jam\" , \"price\" :250  , \"quantity\" :200  , \"mfg date\": \"04/05/2021\" , \"exp date\":\"04/05/2024\" },   \n",
        "    1006 : {\"product\": \"Harpic Disinfectant Bathroom Cleaner Liquid, Lemon\" , \"price\" :309  , \"quantity\" :46  , \"mfg date\": \"28/04/2021\" , \"exp date\":\"28/04/2025\"  }, \n",
        "    1007 : {\"product\": \"Pears Pure And Gentle Bathing Bar\" , \"price\" :140  , \"quantity\" :88  , \"mfg date\": \"01/02/2020\" , \"exp date\":\"01/02/2022\"  },   \n",
        "    1008 : {\"product\": \"Dabur Lal Tail\" , \"price\" :262  , \"quantity\" :36  , \"mfg date\": \"26/09/2021\" , \"exp date\":\"26/09/2023\" },   \n",
        "    1009 : {\"product\": \"Ariel Matic Liquid Detergent\" , \"price\" :390  , \"quantity\" : 75 , \"mfg date\": \"04/06/2021\" , \"exp date\":\"04/06/2024\" },   \n",
        "    1010 : {\"product\": \"Aashirvaad Superior MP Atta\" , \"price\" :245  , \"quantity\" :96  , \"mfg date\": \"31/02/2021\" , \"exp date\":\"31/02/2024\"  },  \n",
        "    1011 : {\"product\": \"Saffola Honey\" , \"price\" :242  , \"quantity\" :56  , \"mfg date\": \"23/08/2021\" , \"exp date\":\"23/08/2023\" },    \n",
        "    1012 : {\"product\": \"Vim Dishwash Liquid Gel\" , \"price\" :334  , \"quantity\" :100  , \"mfg date\": \"04/02/2021\" , \"exp date\":\"04/02/2022\"  },    \n",
        "    1013 : {\"product\": \"Rajbhog Fox Nuts \" , \"price\" :288  , \"quantity\" :95  , \"mfg date\": \"20/05/2021\" , \"exp date\":\"20/05/2025\" },\n",
        "    1014 : {\"product\": \"Saffola Oodles\" , \"price\" :180  , \"quantity\" :87  , \"mfg date\": \"03/09/2021\" , \"exp date\":\"03/09/2023\" },    \n",
        "    1015 : {\"product\": \"Vedaka Whole Cardamom (Elaichi)\" , \"price\" :499  , \"quantity\" :60  , \"mfg date\": \"21/11/2021\", \"exp date\":\"21/11/2024\" },    \n",
        "    1016 : {\"product\": \"Brooke Bond Red Label Tea\" , \"price\" :510  , \"quantity\" :114  , \"mfg date\": \"14/10/2021\" , \"exp date\":\"14/10/2023\" },     \n",
        "    1017 : {\"product\": \"Harpic Disinfectant Toilet Cleaner Liquid\" , \"price\" :329  , \"quantity\" :63  , \"mfg date\": \"05/09/2021\" , \"exp date\":\"05/09/2022\" },\n",
        "    1018 : {\"product\": \"Fortune Sunlite Refined Sunflower Oil\" , \"price\" :160  , \"quantity\" : 65 , \"mfg date\": \"06/03/2021\" , \"exp date\":\"06/03/2023\" },   \n",
        "    1019 : {\"product\": \"Santoor Sandalwood and Turmeric Bath Soap\" , \"price\" :143  , \"quantity\" :74  , \"mfg date\": \"20/09/2021\" , \"exp date\":\"20/09/2022\" },    \n",
        "    1020 : {\"product\": \"Parachute 100 % Pure Coconut Oil\" , \"price\" :342  , \"quantity\" : 98 , \"mfg date\": \"19/08/2021\" , \"exp date\":\"19/08/2022\" },   \n",
        "    1021 : {\"product\": \"Maggi 2-Minute Noodles Masala\" , \"price\" :138  , \"quantity\" :85  , \"mfg date\": \"16/08/2021\" , \"exp date\": \"16/08/2022\"},\n",
        "    1022 : {\"product\": \"Tata Sampann Unpolished Toor Dal\" , \"price\" :145  , \"quantity\" :66  , \"mfg date\": \"03/08/2021\" , \"exp date\":\"03/08/2023\" },\n",
        "    1023 : {\"product\": \"Keya Himalayan Pink Salt\" , \"price\" :175  , \"quantity\" :76  , \"mfg date\": \"407/07/2021\" , \"exp date\":\"407/07/2023\" },   \n",
        "    1024 : {\"product\": \"Dettol Liquid Disinfectant for Floor Cleaner\" , \"price\" :312  , \"quantity\" :76  , \"mfg date\": \"23/06/2021\" , \"exp date\":\"23/06/2024\" },    \n",
        "    1025 : {\"product\": \"Bournvita Health Drink\" , \"price\" :684  , \"quantity\" :103  , \"mfg date\": \"9/05/2021\" , \"exp date\":\"9/05/2023\" },     \n",
        "    1026 : {\"product\": \"Dabur Meswak Toothpaste\" , \"price\" :237  , \"quantity\" :66  , \"mfg date\": \"10/10/2021\" , \"exp date\":\"10/10/20213\" },   \n",
        "    1027 : {\"product\": \"Dettol Original Germ Protection Bathing Soap Bar\" , \"price\" : 215 , \"quantity\" :97  , \"mfg date\": \"04/05/2021\" , \"exp date\":\"04/05/2023\" },   \n",
        "    1028 : {\"product\": \"Kohinoor Super Silver Basmati Rice\" , \"price\" :729  , \"quantity\" :72  , \"mfg date\": \"03/09/2021\" , \"exp date\":\"03/09/2024\" },   \n",
        "    1029 : {\"product\": \"Dabur 100% Pure Cow Ghee\" , \"price\" :499  , \"quantity\" :98  , \"mfg date\": \"30/05/2021\" , \"exp date\":\"30/05/2023\" }, \n",
        "    1030 : {\"product\": \"VASANT Chilli Powder\" , \"price\" : 465 , \"quantity\" : 45 , \"mfg date\": \"02/05/2021\" , \"exp date\":\"02/05/2021\"  },\n",
        "}"
      ],
      "execution_count": 6,
      "outputs": []
    },
    {
      "cell_type": "code",
      "metadata": {
        "colab": {
          "base_uri": "https://localhost:8080/"
        },
        "id": "X8JVw4083OvN",
        "outputId": "8bed95a7-6301-45e6-bcc9-4dda6186ac3e"
      },
      "source": [
        "ui_product = int(input(\"Enter product ID:\"))\n",
        "ui_quantity = int(input(\"Enter Quantity:\"))\n",
        "\n",
        "products = inventory.get(ui_product)\n",
        "\n",
        "if products:\n",
        "  print('product name: ',products.get('product'))\n",
        "  print('price per unit: ', products.get('price'))\n",
        "  print('amount to be paid: ', ui_quantity*products.get('price'))\n",
        "  products['quantity']-=ui_quantity\n",
        "else:\n",
        "  print('product not found')"
      ],
      "execution_count": 7,
      "outputs": [
        {
          "output_type": "stream",
          "name": "stdout",
          "text": [
            "Enter product ID:1015\n",
            "Enter Quantity:6\n",
            "product name:  Vedaka Whole Cardamom (Elaichi)\n",
            "price per unit:  499\n",
            "amount to be paid:  2994\n"
          ]
        }
      ]
    },
    {
      "cell_type": "code",
      "metadata": {
        "id": "z26_qA6s3Wwt"
      },
      "source": [
        "import json\n",
        "\n",
        "file = open('pharmacy.json', 'w')\n",
        "json.dump(inventory, file )\n",
        "\n",
        "#$print(json_inventory)"
      ],
      "execution_count": 8,
      "outputs": []
    },
    {
      "cell_type": "code",
      "metadata": {
        "id": "25nNK5-WNsoW"
      },
      "source": [
        ""
      ],
      "execution_count": null,
      "outputs": []
    }
  ]
}